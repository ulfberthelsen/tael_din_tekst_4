{
 "cells": [
  {
   "cell_type": "markdown",
   "metadata": {},
   "source": [
    "# Tekst som lister\n",
    "***\n",
    "***\n",
    "Keywords: `pre-processing`, `funktioner`, `loop`, `lister`, `tekster`, `kapitler`, `sætninger`, `ord`\n",
    "\n",
    "Nye Python-udtryk: `range`, `[0:4]`\n",
    "***\n",
    "***\n",
    "Der er mange måder at håndtere tekster på, når man arbejder digitalt. I det følgende skal vi kigge på to måder at håndtere en længere tekst på. Eksemplet er Herman Bangs novellesamling *Exentriske Noveller*. I begge eksempler splittes teksten først i kapitler."
   ]
  },
  {
   "cell_type": "markdown",
   "metadata": {},
   "source": [
    "## Forberedelse\n",
    "Som forberedelse til arbejde skal vi første definere to `funktioner`. Den første af de to funktioner er identisk med `rens`-funktionen, vi brugte sidst. Her blot omdøbt til `rens_ord`. Den anden funktion er magen til, bortset fra at den splitter ved punktum i stedet for ved blanktegn. Denne funktion kalder vi `rens_sæt`.\n",
    "\n",
    "Vi skal desuden have åbnet og indlæst filen. Her bruger vi funktionerne `open()` og `.read()` ligesom sidst.\n"
   ]
  },
  {
   "cell_type": "markdown",
   "metadata": {},
   "source": [
    "**Definition** af `rens_ord`"
   ]
  },
  {
   "cell_type": "code",
   "execution_count": null,
   "metadata": {},
   "outputs": [],
   "source": [
    "def rens_ord(text_0):\n",
    "    text_1 = text_0.replace(\"\\n\",\" \")\n",
    "    text_2 = text_1.replace(\".\",\" \")\n",
    "    text_3 = text_2.replace(\",\",\" \")\n",
    "    text_4 = text_3.replace(\":\",\" \")\n",
    "    text_5 = text_4.replace(\"*\",\" \")\n",
    "    text_6 = text_5.replace(\"–\",\" \")\n",
    "    text_7 = text_6.replace(\"'\",\" \")\n",
    "    text_8 = text_7.replace(\"”\",\" \")\n",
    "    text_ren = text_8.replace(\"-\",\" \")\n",
    "    text_lav = text_ren.lower()\n",
    "    text_token = text_lav.split()\n",
    "    return text_token"
   ]
  },
  {
   "cell_type": "markdown",
   "metadata": {},
   "source": [
    "**Definition** af `rens_sæt`"
   ]
  },
  {
   "cell_type": "code",
   "execution_count": null,
   "metadata": {},
   "outputs": [],
   "source": [
    "def rens_sæt(text_0):\n",
    "    text_1 = text_0.replace(\"\\n\",\" \")\n",
    "    text_2 = text_1.replace(\",\",\" \")\n",
    "    text_3 = text_2.replace(\":\",\" \")\n",
    "    text_4 = text_3.replace(\"*\",\" \")\n",
    "    text_5 = text_4.replace(\"–\",\" \")\n",
    "    text_6 = text_5.replace(\"'\",\" \")\n",
    "    text_7 = text_6.replace(\"”\",\" \")\n",
    "    text_ren = text_7.replace(\"-\",\" \")\n",
    "    text_lav = text_ren.lower()\n",
    "    text_token = text_lav.split(\".\")\n",
    "    return text_token"
   ]
  },
  {
   "cell_type": "markdown",
   "metadata": {},
   "source": [
    "**Åben** og **indlæs** teksten. Filen åbnes som en lang sammenhængende streng af bogstaver. Funtionen `len()` måler strengens længde."
   ]
  },
  {
   "cell_type": "code",
   "execution_count": null,
   "metadata": {},
   "outputs": [],
   "source": [
    "txt_0 = open(\"Exentriske_noveller.txt\", encoding = \"utf8\")\n",
    "txt_1 = txt_0.read()\n",
    "len(txt_1)"
   ]
  },
  {
   "cell_type": "markdown",
   "metadata": {},
   "source": [
    "## Variation 1: Tekst>kapitler>ord\n",
    "Den indlæste tekst er nu gemt under variabelnavnet `txt_1` og indholder, som I kan se ovenfor, en lang streng bestående af 126191 tegn.\n",
    "\n",
    "Når vi arbejder med tekster, vil det ofte være nyttigt at arbejde med tekstenheder, der er større en ord og sætninger, men mindre end hele teksten, fx kapitler.\n",
    "\n",
    "Hvis man arbejder med mange tekster, kan det være vanskeligt, hvis kapitelskift er angivet på forskellige måder. En strategi kan her være at se bort fra kapitelskift og inddele teksterne i bidder på fx 2000 ord.\n",
    "\n",
    "Hvis man arbejder med et overskueligt antal tekster, kan man i stedet forberede .txt-filerne, så det er nemt at finde kapitel-inddelingerne. Selvom indtastningen sker manuelt, er det stadig langt hurtigere end at copy/paste kapitlerne over i selvstændige .txt-filer, der efterfølgende skal åbnes separat.\n",
    "\n",
    "I Herman Bang teksten har jeg indtastet '_kapitel_' umiddelbart inden begyndelsen af hver ny novelle. Det er bare tekst, så I kan skrive hvad I vil. i skal bare huske at det skal være let gengendeligt. Hvis i skriver 'Kap. 1', 'Kap. 2' osv, riskikerer I, at det bliver svært at finde, hvis i fx vælger at slette punktummer i og store bogstaver i præ-processeringen.\n",
    "\n",
    "Hvis I printer txt_1 kan I let se kapitelmarkeringen.\n",
    "\n",
    "\n"
   ]
  },
  {
   "cell_type": "code",
   "execution_count": null,
   "metadata": {},
   "outputs": [],
   "source": [
    "print(txt_1)"
   ]
  },
  {
   "cell_type": "markdown",
   "metadata": {},
   "source": [
    "Herefter bruger vi blot `.split()`. Split-funktionen deler ved blanktegn, hvis ikke andet er angivet, men vi kan bede om at få teksten splittet ved en hvilken som helst tegnkombination. Vi angiver derfor i parentesen, at strengen skal splittes ved \"_kapitel_\"  ... husk anførselstegn, da det en string.\n",
    "\n",
    "Hvis vi tjekker type og længde på txt_2, kan vi se at det nu ere en liste med fire elementer (forside + 3 noveller)."
   ]
  },
  {
   "cell_type": "code",
   "execution_count": null,
   "metadata": {},
   "outputs": [],
   "source": [
    "txt_2 = txt_1.split(\"_kapitel_\")\n",
    "txt_2\n",
    "print(type(txt_2))\n",
    "print(len(txt_2))"
   ]
  },
  {
   "cell_type": "markdown",
   "metadata": {},
   "source": [
    "Herefter renser vi de fire elementer i txt_2 et ad gangen vha. af et for-loop. Vi bruger funktionen `rens_ord`, som vi definerede ovenfor og gemmer den rensede tekst under variabel-navnet `rensKapOrd`."
   ]
  },
  {
   "cell_type": "code",
   "execution_count": null,
   "metadata": {},
   "outputs": [],
   "source": [
    "rensKapOrd = []\n",
    "for kap in txt_2:\n",
    "    rensKapOrd.append(rens_ord(kap))"
   ]
  },
  {
   "cell_type": "markdown",
   "metadata": {},
   "source": [
    "Hvis vi inspicerer den nye variabel, kan vi se at den nu består af en liste af fire lister."
   ]
  },
  {
   "cell_type": "code",
   "execution_count": null,
   "metadata": {},
   "outputs": [],
   "source": [
    "rensKapOrd"
   ]
  },
  {
   "cell_type": "markdown",
   "metadata": {},
   "source": [
    "Som det fremgår ovenfor, er den første liste ikke et kapitel, men indeholder titel, forfatter og årstal. Hvis vi ikke skal bruge disse oplysninger kan vi let fjerne denne første liste vha. `range`-funktionen.\n",
    "\n",
    "Vi genbruger variabelnavnet `rensKapOrd`, men gemmer kun de tre sidste elementer på listen, dvs. ikke første del med forfatternavn og titel. \n",
    "\n",
    "Husk at indekser tæller fra 0 og ikke inkluderer det sidste tal. Range-angivelsen læses: *inkludér elementer fra 1 op til, men ikke inklusive 4.* Dvs. ikke det første element, som har indeks 0, men det andet, tredje og fjerde element, der har indeksnumrene 1, 2 og 3.\n",
    "\n",
    "Ved at tjekke længden, kan vi se, at listen nu kun indeholder tre elementer:"
   ]
  },
  {
   "cell_type": "code",
   "execution_count": null,
   "metadata": {},
   "outputs": [],
   "source": [
    "rensKapOrd = rensKapOrd[1:4]\n",
    "len(rensKapOrd)"
   ]
  },
  {
   "cell_type": "markdown",
   "metadata": {},
   "source": [
    "Ved at inspicere variablen, kan vi se, at første del er fjernet."
   ]
  },
  {
   "cell_type": "code",
   "execution_count": null,
   "metadata": {},
   "outputs": [],
   "source": [
    "rensKapOrd"
   ]
  },
  {
   "cell_type": "markdown",
   "metadata": {},
   "source": [
    "## Tæl antal ord per kapitel\n",
    "Når teksten nu er inddelt i kapitler, gemt som ordlister på en liste, kan vi nu loope over kapitlerne.\n",
    "\n",
    "I eksemplet nedenfor tælles antal ord per kapiter.\n",
    "\n",
    "**Diskuter** hvad hver kodelinje gør. Prøv at **oversætte** kodelinjerne til almindeligt dansk.\n",
    "\n",
    "**Hvad** indeholder den nye variabel `txtLen`?"
   ]
  },
  {
   "cell_type": "code",
   "execution_count": null,
   "metadata": {},
   "outputs": [],
   "source": [
    "txtLen = []\n",
    "for kap in rensKapOrd:\n",
    "    txtLen.append(len(kap))"
   ]
  },
  {
   "cell_type": "code",
   "execution_count": null,
   "metadata": {},
   "outputs": [],
   "source": [
    "txtLen"
   ]
  },
  {
   "cell_type": "markdown",
   "metadata": {},
   "source": [
    "## Tæl antal sætninger per kapitel"
   ]
  },
  {
   "cell_type": "markdown",
   "metadata": {},
   "source": [
    "For at tælle antallet af sætninger per kapitel, skal vi præprocessere vha. af funktionen `rens_sæt`, som vi definerede i begyndelsen.\n",
    "\n",
    "Vi begynder på en frisk og splitter den indlæste tekst (txt_2) i kapitler og fjerner den første del, der indholder forfatter og titel."
   ]
  },
  {
   "cell_type": "code",
   "execution_count": null,
   "metadata": {},
   "outputs": [],
   "source": [
    "txt_2 = txt_1.split(\"_kapitel_\")\n",
    "txt_3 = txt_2[1:4]\n",
    "txt_3"
   ]
  },
  {
   "cell_type": "markdown",
   "metadata": {},
   "source": [
    "Herefter renser vi hvert kapitel med funktionen `rens_sæt`, og tilføjer den rensede tekst til en ny liste.\n",
    "\n",
    "**Diskuter** hvad hver kodelinje gør. Prøv at **oversætte** kodelinjerne til almindeligt dansk.\n",
    "\n",
    "**Hvad** indeholder den nye variabel `rensKapOrd`?"
   ]
  },
  {
   "cell_type": "code",
   "execution_count": null,
   "metadata": {},
   "outputs": [],
   "source": [
    "rensKapSæt = []\n",
    "for kap in txt_3:\n",
    "    rensKapSæt.append(rens_sæt(kap))"
   ]
  },
  {
   "cell_type": "code",
   "execution_count": null,
   "metadata": {},
   "outputs": [],
   "source": [
    "rensKapSæt"
   ]
  },
  {
   "cell_type": "markdown",
   "metadata": {},
   "source": [
    "Næste skridt er at tælle længden af hver sætning.\n",
    "\n",
    "**Diskuter** hvad hver kodelinje gør. Prøv at **oversætte** kodelinjerne til almindeligt dansk.\n",
    "\n",
    "**Hvad** indeholder den nye variabel `kapSætAntal`?"
   ]
  },
  {
   "cell_type": "code",
   "execution_count": null,
   "metadata": {},
   "outputs": [],
   "source": [
    "kapSætAntal = []\n",
    "for kap in rensKapSæt:\n",
    "    kapSætAntal.append(len(kap))    "
   ]
  },
  {
   "cell_type": "code",
   "execution_count": null,
   "metadata": {},
   "outputs": [],
   "source": [
    "kapSætAntal"
   ]
  },
  {
   "cell_type": "markdown",
   "metadata": {},
   "source": [
    "## Beregn gennemsnitlig sætningslængde\n",
    "\n",
    "Vi har nu to lister, nemlig en liste, der indeholder antal ord per kapitel, og en liste der indeholder antal sætninger per kapitel."
   ]
  },
  {
   "cell_type": "code",
   "execution_count": null,
   "metadata": {},
   "outputs": [],
   "source": [
    "print(txtLen)\n",
    "print(kapSætAntal)"
   ]
  },
  {
   "cell_type": "markdown",
   "metadata": {},
   "source": [
    "Vi kan nu finde gennemsnittet ved at dividere `/` antallet af ord per kapitel med antallet af sætninger per kapitel. Her bruger vi `indeks`-funktionen `[ ]` til at sikre, at de rigtige elementer divideres med hinanden.\n",
    "\n",
    "**Diskuter** hvad hver kodelinje gør. Prøv at **oversætte** kodelinjerne til almindeligt dansk.\n",
    "\n",
    "**Hvad** indeholder den nye variabel `gnmsOrdSæt`?"
   ]
  },
  {
   "cell_type": "code",
   "execution_count": null,
   "metadata": {},
   "outputs": [],
   "source": [
    "gnmsOrdSæt = txtLen[0]/kapSætAntal[0], txtLen[1]/kapSætAntal[1], txtLen[2]/kapSætAntal[2]"
   ]
  },
  {
   "cell_type": "code",
   "execution_count": null,
   "metadata": {},
   "outputs": [],
   "source": [
    "gnmsOrdSæt"
   ]
  }
 ],
 "metadata": {
  "kernelspec": {
   "display_name": "Python 3",
   "language": "python",
   "name": "python3"
  },
  "language_info": {
   "codemirror_mode": {
    "name": "ipython",
    "version": 3
   },
   "file_extension": ".py",
   "mimetype": "text/x-python",
   "name": "python",
   "nbconvert_exporter": "python",
   "pygments_lexer": "ipython3",
   "version": "3.8.3"
  }
 },
 "nbformat": 4,
 "nbformat_minor": 4
}
